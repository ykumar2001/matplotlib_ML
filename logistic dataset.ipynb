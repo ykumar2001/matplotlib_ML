{
 "cells": [
  {
   "cell_type": "code",
   "execution_count": null,
   "id": "b413dddd-4e5b-4398-8604-716dce710dcd",
   "metadata": {},
   "outputs": [],
   "source": [
    "import pnadas as pd "
   ]
  },
  {
   "cell_type": "code",
   "execution_count": null,
   "id": "22066f81-75d8-4391-b624-16887cbcd595",
   "metadata": {},
   "outputs": [],
   "source": [
    "import seaborn as sns"
   ]
  },
  {
   "cell_type": "code",
   "execution_count": null,
   "id": "51c7f74b-71a2-434d-a558-2f6e5e74f725",
   "metadata": {},
   "outputs": [],
   "source": [
    "titanic =sns.load_dataset('titanic')"
   ]
  },
  {
   "cell_type": "code",
   "execution_count": null,
   "id": "7fdd1358-cf47-4b7d-8c18-5b1d4ab21854",
   "metadata": {},
   "outputs": [],
   "source": [
    "print(titanic.head())"
   ]
  },
  {
   "cell_type": "code",
   "execution_count": null,
   "id": "49eb674a-422a-482e-9549-10beb0039355",
   "metadata": {},
   "outputs": [],
   "source": []
  },
  {
   "cell_type": "code",
   "execution_count": null,
   "id": "26bf630b-e803-475e-a91c-98116c8aea01",
   "metadata": {},
   "outputs": [],
   "source": []
  },
  {
   "cell_type": "code",
   "execution_count": null,
   "id": "3d92c6ce-bdb3-4e4e-a696-db59d87e9bdd",
   "metadata": {},
   "outputs": [],
   "source": []
  },
  {
   "cell_type": "code",
   "execution_count": null,
   "id": "b24d9463-b3e7-4109-8296-71170dfd60b7",
   "metadata": {},
   "outputs": [],
   "source": []
  },
  {
   "cell_type": "code",
   "execution_count": null,
   "id": "54a9b09b-a452-4da0-9c56-16966fb683d0",
   "metadata": {},
   "outputs": [],
   "source": []
  }
 ],
 "metadata": {
  "kernelspec": {
   "display_name": "Python 3 (ipykernel)",
   "language": "python",
   "name": "python3"
  },
  "language_info": {
   "codemirror_mode": {
    "name": "ipython",
    "version": 3
   },
   "file_extension": ".py",
   "mimetype": "text/x-python",
   "name": "python",
   "nbconvert_exporter": "python",
   "pygments_lexer": "ipython3",
   "version": "3.12.1"
  }
 },
 "nbformat": 4,
 "nbformat_minor": 5
}
